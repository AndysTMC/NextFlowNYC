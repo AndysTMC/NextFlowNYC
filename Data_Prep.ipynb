{
 "cells": [
  {
   "cell_type": "code",
   "execution_count": null,
   "metadata": {},
   "outputs": [],
   "source": [
    "# Import necessary modules\n",
    "import os  # For interacting with the operating system\n",
    "import glob  # For finding files and directories matching a pattern\n",
    "import subprocess  # For running subprocesses\n",
    "import pandas as pd  # For data manipulation and analysis"
   ]
  },
  {
   "cell_type": "code",
   "execution_count": null,
   "metadata": {},
   "outputs": [],
   "source": [
    "\n",
    "dataset_folder = \"./dataset\"\n",
    "\n",
    "# Check if the dataset folder is not empty\n",
    "if os.listdir(dataset_folder):\n",
    "    print(\"The test folder is not empty. Deleting all files...\")\n",
    "    # Iterate over all files in the dataset folder\n",
    "    for file in os.listdir(dataset_folder):\n",
    "        file_path = os.path.join(dataset_folder, file)\n",
    "        # Remove the file if it is a regular file\n",
    "        if os.path.isfile(file_path):\n",
    "            os.remove(file_path)\n",
    "        # Remove the directory if it is a directory\n",
    "        elif os.path.isdir(file_path):\n",
    "            os.rmdir(file_path)\n",
    "    print(\"All files in the test folder have been deleted.\")\n",
    "else:\n",
    "    print(\"The test folder is empty.\")\n",
    "\n",
    "print(\"Downloading dataset...\")\n",
    "# Download the dataset using Kaggle API\n",
    "subprocess.run([\"kaggle\", \"datasets\", \"download\", \"-d\", \"aadimator/nyc-automated-traffic-volume-counts\", \"-p\", dataset_folder], check=True)\n",
    "print(\"Download completed.\")\n",
    "\n",
    "print(\"Unzipping the dataset...\")\n",
    "# Unzip the downloaded dataset\n",
    "subprocess.run([\"tar\", \"-xf\", os.path.join(dataset_folder, \"nyc-automated-traffic-volume-counts.zip\"), \"-C\", dataset_folder], check=True)\n",
    "print(\"Unzipping completed.\")\n",
    "\n",
    "print(\"Removing the zip file...\")\n",
    "# Remove the zip file after extraction\n",
    "os.remove(os.path.join(dataset_folder, \"nyc-automated-traffic-volume-counts.zip\"))\n",
    "print(\"Zip file removed.\")\n",
    "\n",
    "print(\"Listing directory contents...\")\n",
    "# List the contents of the dataset folder\n",
    "files = os.listdir(dataset_folder)\n",
    "print(\"Directory contents:\", files)\n",
    "\n",
    "# Find all CSV files in the dataset folder\n",
    "csv_files = glob.glob(os.path.join(dataset_folder, \"*.csv\"))\n",
    "if csv_files:\n",
    "    old_name = csv_files[0]\n",
    "    new_name = os.path.join(dataset_folder, \"ATVC_NYC.csv\")\n",
    "    # Rename the first CSV file found to \"ATVC_NYC.csv\"\n",
    "    os.rename(old_name, new_name)\n",
    "    print(f\"Renamed {old_name} to {new_name}\")\n",
    "else:\n",
    "    print(\"No CSV file found in the directory.\")\n"
   ]
  },
  {
   "cell_type": "code",
   "execution_count": null,
   "metadata": {},
   "outputs": [],
   "source": [
    "# Load the dataset from the CSV file\n",
    "data = pd.read_csv(\"./dataset/ATVC_NYC.csv\")\n",
    "print(\"Dataset loaded successfully.\")\n",
    "\n",
    "# Loop through each year from 2011 to 2020\n",
    "for year in range(2011, 2021):\n",
    "    # Filter the data for the current year\n",
    "    yearly_data = data[data['Yr'] == year]\n",
    "    # Save the filtered data to a new CSV file named after the year\n",
    "    yearly_data.to_csv(f\"./dataset/{year}.csv\", index=False)\n",
    "\n",
    "print(\"Data split by year and saved to separate CSV files.\")"
   ]
  }
 ],
 "metadata": {
  "kernelspec": {
   "display_name": "Python 3",
   "language": "python",
   "name": "python3"
  },
  "language_info": {
   "codemirror_mode": {
    "name": "ipython",
    "version": 3
   },
   "file_extension": ".py",
   "mimetype": "text/x-python",
   "name": "python",
   "nbconvert_exporter": "python",
   "pygments_lexer": "ipython3",
   "version": "3.12.3"
  }
 },
 "nbformat": 4,
 "nbformat_minor": 2
}
